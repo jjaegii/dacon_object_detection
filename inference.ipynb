{
 "cells": [
  {
   "attachments": {},
   "cell_type": "markdown",
   "metadata": {},
   "source": [
    "### import 및 설정값"
   ]
  },
  {
   "cell_type": "code",
   "execution_count": 1,
   "metadata": {},
   "outputs": [],
   "source": [
    "import os\n",
    "os.environ[\"WANDB_DISABLED\"] = \"True\"\n",
    "\n",
    "import pandas as pd\n",
    "import numpy as np\n",
    "import cv2\n",
    "import shutil\n",
    "import yaml\n",
    "import warnings\n",
    "warnings.filterwarnings(\"ignore\")\n",
    "\n",
    "from ultralytics import YOLO\n",
    "from glob import glob\n",
    "from tqdm import tqdm\n",
    "from IPython.display import clear_output\n",
    "from sklearn.model_selection import train_test_split"
   ]
  },
  {
   "cell_type": "code",
   "execution_count": 6,
   "metadata": {},
   "outputs": [],
   "source": [
    "SEED = 42\n",
    "BATCH_SIZE = 8\n",
    "MODEL = \"dacon\""
   ]
  },
  {
   "cell_type": "code",
   "execution_count": 3,
   "metadata": {},
   "outputs": [],
   "source": [
    "def get_test_image_paths(test_image_paths):    \n",
    "    for i in range(0, len(test_image_paths), BATCH_SIZE):\n",
    "        yield test_image_paths[i:i+BATCH_SIZE]"
   ]
  },
  {
   "attachments": {},
   "cell_type": "markdown",
   "metadata": {},
   "source": [
    "### 추론"
   ]
  },
  {
   "cell_type": "code",
   "execution_count": 4,
   "metadata": {},
   "outputs": [
    {
     "name": "stderr",
     "output_type": "stream",
     "text": [
      " 99%|█████████▉| 421/425 [06:22<00:03,  1.10it/s]Results saved to \u001b[1mv2/predict\u001b[0m\n",
      "3373 labels saved to v2/predict/labels\n",
      " 99%|█████████▉| 422/425 [06:23<00:02,  1.10it/s]Results saved to \u001b[1mv2/predict\u001b[0m\n",
      "3381 labels saved to v2/predict/labels\n",
      "100%|█████████▉| 423/425 [06:24<00:01,  1.10it/s]Results saved to \u001b[1mv2/predict\u001b[0m\n",
      "3389 labels saved to v2/predict/labels\n",
      "100%|█████████▉| 424/425 [06:25<00:00,  1.10it/s]Results saved to \u001b[1mv2/predict\u001b[0m\n",
      "3397 labels saved to v2/predict/labels\n",
      "100%|██████████| 425/425 [06:26<00:00,  1.10it/s]\n"
     ]
    }
   ],
   "source": [
    "model = YOLO(\"dacon/train/weights/best.pt\")\n",
    "test_image_paths = glob(\"data/yolo/test/*.png\")\n",
    "for i, image in tqdm(enumerate(get_test_image_paths(test_image_paths)), total=int(len(test_image_paths)/BATCH_SIZE)):\n",
    "    model.predict(image, imgsz=(1024, 1024), iou=0.2, conf=0.5, save_conf=True, save=False, save_txt=True, project=f\"{MODEL}\", name=\"predict\",\n",
    "                  exist_ok=True, device=0, augment=True, verbose=False)\n",
    "    if i % 5 == 0:\n",
    "        clear_output(wait=True)"
   ]
  },
  {
   "attachments": {},
   "cell_type": "markdown",
   "metadata": {},
   "source": [
    "### YOLO 라벨링 -> LabelMe 라벨링 형식으로 변환"
   ]
  },
  {
   "cell_type": "code",
   "execution_count": 5,
   "metadata": {},
   "outputs": [],
   "source": [
    "def yolo_to_labelme(line, image_width, image_height, txt_file_name):    \n",
    "    file_name = txt_file_name.split(\"/\")[-1].replace(\".txt\", \".png\")\n",
    "    class_id, x, y, width, height, confidence = [float(temp) for temp in line.split()]\n",
    "    \n",
    "    x_min = int((x - width / 2) * image_width)\n",
    "    x_max = int((x + width / 2) * image_width)\n",
    "    y_min = int((y - height / 2) * image_height)\n",
    "    y_max = int((y + height / 2) * image_height)\n",
    "    \n",
    "    return file_name, int(class_id), confidence, x_min, y_min, x_max, y_min, x_max, y_max, x_min, y_max"
   ]
  },
  {
   "cell_type": "code",
   "execution_count": 8,
   "metadata": {},
   "outputs": [
    {
     "name": "stderr",
     "output_type": "stream",
     "text": [
      "100%|██████████| 3397/3397 [02:03<00:00, 27.46it/s]\n"
     ]
    }
   ],
   "source": [
    "infer_txts = glob(f\"{MODEL}/predict/labels/*.txt\")\n",
    "\n",
    "results = []\n",
    "for infer_txt in tqdm(infer_txts):\n",
    "    base_file_name = infer_txt.split(\"/\")[-1].split(\".\")[0]\n",
    "    imgage_height, imgage_width = cv2.imread(f\"data/yolo/test/{base_file_name}.png\").shape[:2]        \n",
    "    with open(infer_txt, \"r\") as reader:        \n",
    "        lines = reader.readlines()        \n",
    "        for line in lines:\n",
    "            results.append(yolo_to_labelme(line, imgage_width, imgage_height, infer_txt))\n",
    "\n",
    "df_submission = pd.DataFrame(data=results, columns=[\"file_name\", \"class_id\", \"confidence\", \"point1_x\", \"point1_y\", \"point2_x\", \"point2_y\", \"point3_x\", \"point3_y\", \"point4_x\", \"point4_y\"])\n",
    "df_submission.to_csv(f\"results/{MODEL}.csv\", index=False)"
   ]
  }
 ],
 "metadata": {
  "kernelspec": {
   "display_name": "venv",
   "language": "python",
   "name": "python3"
  },
  "language_info": {
   "codemirror_mode": {
    "name": "ipython",
    "version": 3
   },
   "file_extension": ".py",
   "mimetype": "text/x-python",
   "name": "python",
   "nbconvert_exporter": "python",
   "pygments_lexer": "ipython3",
   "version": "3.9.13"
  },
  "orig_nbformat": 4
 },
 "nbformat": 4,
 "nbformat_minor": 2
}
