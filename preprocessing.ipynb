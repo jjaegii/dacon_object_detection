{
 "cells": [
  {
   "attachments": {},
   "cell_type": "markdown",
   "metadata": {},
   "source": [
    "### import 및 설정값"
   ]
  },
  {
   "cell_type": "code",
   "execution_count": 2,
   "metadata": {},
   "outputs": [],
   "source": [
    "import os\n",
    "os.environ[\"WANDB_DISABLED\"] = \"True\"\n",
    "\n",
    "import pandas as pd\n",
    "import numpy as np\n",
    "import cv2\n",
    "import shutil\n",
    "import yaml\n",
    "import warnings\n",
    "warnings.filterwarnings(\"ignore\")\n",
    "\n",
    "from ultralytics import YOLO\n",
    "from glob import glob\n",
    "from tqdm import tqdm\n",
    "from IPython.display import clear_output\n",
    "from sklearn.model_selection import train_test_split"
   ]
  },
  {
   "cell_type": "code",
   "execution_count": 3,
   "metadata": {},
   "outputs": [],
   "source": [
    "SEED = 42\n",
    "BATCH_SIZE = 8\n",
    "MODEL = \"v2\""
   ]
  },
  {
   "attachments": {},
   "cell_type": "markdown",
   "metadata": {},
   "source": [
    "### 라벨링 데이터 -> YOLO 라벨링 데이터 변경 & 데이터셋 나누기"
   ]
  },
  {
   "cell_type": "code",
   "execution_count": 4,
   "metadata": {},
   "outputs": [],
   "source": [
    "if os.path.exists(\"data/yolo\"):\n",
    "    shutil.rmtree(\"data/yolo\")\n",
    "\n",
    "if not os.path.exists(\"data/yolo/train\"):\n",
    "    os.makedirs(\"data/yolo/train\")\n",
    "    \n",
    "if not os.path.exists(\"data/yolo/valid\"):\n",
    "    os.makedirs(\"data/yolo/valid\")\n",
    "    \n",
    "if not os.path.exists(\"data/yolo/test\"):\n",
    "    os.makedirs(\"data/yolo/test\")    \n",
    "    \n",
    "if not os.path.exists(\"results\"):\n",
    "    os.makedirs(\"results\")"
   ]
  },
  {
   "cell_type": "code",
   "execution_count": 8,
   "metadata": {},
   "outputs": [],
   "source": [
    "def make_yolo_dataset(image_paths, txt_paths, type=\"train\"):\n",
    "    for image_path, txt_path in tqdm(zip(image_paths, txt_paths if not type == \"test\" else image_paths), total=len(image_paths)):\n",
    "        source_image = cv2.imread(image_path, cv2.IMREAD_COLOR)        \n",
    "        image_height, image_width, _ = source_image.shape\n",
    "        \n",
    "        target_image_path = f\"data/yolo/{type}/{os.path.basename(image_path)}\"\n",
    "        cv2.imwrite(target_image_path, source_image)\n",
    "        \n",
    "        if type == \"test\":\n",
    "            continue\n",
    "        \n",
    "        with open(txt_path, \"r\") as reader:\n",
    "            yolo_labels = []\n",
    "            for line in reader.readlines():\n",
    "                line = list(map(float, line.strip().split(\" \")))\n",
    "                class_name = int(line[0])\n",
    "                x_min, y_min = float(min(line[5], line[7])), float(min(line[6], line[8]))\n",
    "                x_max, y_max = float(max(line[1], line[3])), float(max(line[2], line[4]))\n",
    "                x, y = float(((x_min + x_max) / 2) / image_width), float(((y_min + y_max) / 2) / image_height)\n",
    "                w, h = abs(x_max - x_min) / image_width, abs(y_max - y_min) / image_height\n",
    "                yolo_labels.append(f\"{class_name} {x} {y} {w} {h}\")\n",
    "            \n",
    "        target_label_txt = f\"data/yolo/{type}/{os.path.basename(txt_path)}\"      \n",
    "        with open(target_label_txt, \"w\") as writer:\n",
    "            for yolo_label in yolo_labels:\n",
    "                writer.write(f\"{yolo_label}\\n\")"
   ]
  },
  {
   "cell_type": "code",
   "execution_count": 9,
   "metadata": {},
   "outputs": [
    {
     "name": "stderr",
     "output_type": "stream",
     "text": [
      "100%|██████████| 5832/5832 [22:24<00:00,  4.34it/s]\n",
      "100%|██████████| 649/649 [02:30<00:00,  4.31it/s]\n",
      "100%|██████████| 3400/3400 [11:02<00:00,  5.13it/s]\n"
     ]
    }
   ],
   "source": [
    "image_paths = sorted(glob(\"datasets/train/*.png\"))\n",
    "txt_paths = sorted(glob(\"datasets/train/*.txt\"))\n",
    "\n",
    "train_images_paths, valid_images_paths, train_txt_paths, valid_txt_paths = train_test_split(image_paths, txt_paths, test_size=0.1, random_state=SEED)\n",
    "\n",
    "make_yolo_dataset(train_images_paths, train_txt_paths, \"train\")\n",
    "make_yolo_dataset(valid_images_paths, valid_txt_paths, \"valid\")\n",
    "make_yolo_dataset(sorted(glob(\"datasets/test/*.png\")), None, \"test\")"
   ]
  },
  {
   "attachments": {},
   "cell_type": "markdown",
   "metadata": {},
   "source": [
    "### yaml 파일 생성"
   ]
  },
  {
   "cell_type": "code",
   "execution_count": 10,
   "metadata": {},
   "outputs": [],
   "source": [
    "with open(\"data/classes.txt\", \"r\") as reader:\n",
    "    lines = reader.readlines()\n",
    "    classes = [line.strip().split(\",\")[1] for line in lines]\n",
    "\n",
    "yaml_data = {\n",
    "              \"names\": classes,\n",
    "              \"nc\": len(classes),\n",
    "              \"path\": \"/media/jjaegii/disk/dacon/open/data/yolo/\",\n",
    "              \"train\": \"train\",\n",
    "              \"val\": \"valid\",\n",
    "              \"test\": \"test\"\n",
    "            }\n",
    "\n",
    "with open(\"data/yolo/custom.yaml\", \"w\") as writer:\n",
    "    yaml.dump(yaml_data, writer)"
   ]
  }
 ],
 "metadata": {
  "kernelspec": {
   "display_name": "venv",
   "language": "python",
   "name": "python3"
  },
  "language_info": {
   "codemirror_mode": {
    "name": "ipython",
    "version": 3
   },
   "file_extension": ".py",
   "mimetype": "text/x-python",
   "name": "python",
   "nbconvert_exporter": "python",
   "pygments_lexer": "ipython3",
   "version": "3.9.13"
  },
  "orig_nbformat": 4
 },
 "nbformat": 4,
 "nbformat_minor": 2
}
